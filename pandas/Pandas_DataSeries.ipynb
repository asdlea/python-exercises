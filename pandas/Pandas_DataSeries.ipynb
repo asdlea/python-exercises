{
  "nbformat": 4,
  "nbformat_minor": 0,
  "metadata": {
    "colab": {
      "name": "Pandas DataSeries.ipynb",
      "provenance": [],
      "toc_visible": true
    },
    "kernelspec": {
      "name": "python3",
      "display_name": "Python 3"
    },
    "language_info": {
      "name": "python"
    }
  },
  "cells": [
    {
      "cell_type": "markdown",
      "metadata": {
        "id": "RuGwqlsDVszr"
      },
      "source": [
        "# Python Pandas Data Series: Exercises, Practice, Solution"
      ]
    },
    {
      "cell_type": "code",
      "metadata": {
        "id": "Y0GBBDyGWjVi"
      },
      "source": [
        "import pandas as pd"
      ],
      "execution_count": 1,
      "outputs": []
    },
    {
      "cell_type": "markdown",
      "metadata": {
        "id": "DKpW8RITV-8F"
      },
      "source": [
        "### 01) Write a Pandas program to create and display a one-dimensional array-like object containing an array of data using Pandas module."
      ]
    },
    {
      "cell_type": "code",
      "metadata": {
        "colab": {
          "base_uri": "https://localhost:8080/"
        },
        "id": "tvPkdlkgVnc2",
        "outputId": "df1cc858-f208-4b23-fbf6-78058964d03d"
      },
      "source": [
        "arr = pd.Series([1, 2, 3, 4])\n",
        "arr"
      ],
      "execution_count": 2,
      "outputs": [
        {
          "output_type": "execute_result",
          "data": {
            "text/plain": [
              "0    1\n",
              "1    2\n",
              "2    3\n",
              "3    4\n",
              "dtype: int64"
            ]
          },
          "metadata": {
            "tags": []
          },
          "execution_count": 2
        }
      ]
    },
    {
      "cell_type": "markdown",
      "metadata": {
        "id": "HNL0ENPlW4SX"
      },
      "source": [
        "### 02) Write a Pandas program to convert a Panda module Series to Python list and it's type."
      ]
    },
    {
      "cell_type": "code",
      "metadata": {
        "colab": {
          "base_uri": "https://localhost:8080/"
        },
        "id": "4219nDpgWv39",
        "outputId": "a98c3243-0291-4067-eb69-afa382d61e87"
      },
      "source": [
        "arr.to_list()\n"
      ],
      "execution_count": 3,
      "outputs": [
        {
          "output_type": "execute_result",
          "data": {
            "text/plain": [
              "[1, 2, 3, 4]"
            ]
          },
          "metadata": {
            "tags": []
          },
          "execution_count": 3
        }
      ]
    },
    {
      "cell_type": "markdown",
      "metadata": {
        "id": "orBuKeqsZoql"
      },
      "source": [
        "### 03) Write a Pandas program to add, subtract, multiple and divide two Pandas Series.\n",
        "\n",
        "Sample Series: [2, 4, 6, 8, 10], [1, 3, 5, 7, 9]"
      ]
    },
    {
      "cell_type": "code",
      "metadata": {
        "colab": {
          "base_uri": "https://localhost:8080/"
        },
        "id": "9LzEq-7GZn4u",
        "outputId": "c60e6a31-c03e-462d-e366-14679ed610db"
      },
      "source": [
        "arr1 = pd.Series([2, 4, 6, 8, 10])\n",
        "arr2 = pd.Series([1, 3, 5, 7, 9])\n",
        "\n",
        "print(\"addition:\\n\", arr1+arr2)\n",
        "print(\"substraction:\\n\", arr1-arr2)\n",
        "print(\"product:\\n\", arr1*arr2)\n",
        "print(\"division:\\n\", arr1/arr2)"
      ],
      "execution_count": 4,
      "outputs": [
        {
          "output_type": "stream",
          "text": [
            "addition:\n",
            " 0     3\n",
            "1     7\n",
            "2    11\n",
            "3    15\n",
            "4    19\n",
            "dtype: int64\n",
            "substraction:\n",
            " 0    1\n",
            "1    1\n",
            "2    1\n",
            "3    1\n",
            "4    1\n",
            "dtype: int64\n",
            "product:\n",
            " 0     2\n",
            "1    12\n",
            "2    30\n",
            "3    56\n",
            "4    90\n",
            "dtype: int64\n",
            "division:\n",
            " 0    2.000000\n",
            "1    1.333333\n",
            "2    1.200000\n",
            "3    1.142857\n",
            "4    1.111111\n",
            "dtype: float64\n"
          ],
          "name": "stdout"
        }
      ]
    },
    {
      "cell_type": "markdown",
      "metadata": {
        "id": "SsyU5TU6bECI"
      },
      "source": [
        "### 04) Write a Pandas program to compare the elements of the two Pandas Series\n",
        "\n",
        "Sample Series: [2, 4, 6, 8, 10], [1, 3, 5, 7, 9]"
      ]
    },
    {
      "cell_type": "code",
      "metadata": {
        "colab": {
          "base_uri": "https://localhost:8080/"
        },
        "id": "Fc0m4EvNZnT6",
        "outputId": "8ecaeb6a-6291-44d6-d780-c274689aa792"
      },
      "source": [
        "arr1 = pd.Series([2, 4, 6, 8, 10])\n",
        "arr2 = pd.Series([1, 3, 5, 7, 9])\n",
        "\n",
        "print(\"equal:\\n\", arr1==arr2)\n",
        "print(\"gt:\\n\", arr1>arr2)\n",
        "print(\"lt:\\n\", arr1<arr2)"
      ],
      "execution_count": 5,
      "outputs": [
        {
          "output_type": "stream",
          "text": [
            "equal:\n",
            " 0    False\n",
            "1    False\n",
            "2    False\n",
            "3    False\n",
            "4    False\n",
            "dtype: bool\n",
            "gt:\n",
            " 0    True\n",
            "1    True\n",
            "2    True\n",
            "3    True\n",
            "4    True\n",
            "dtype: bool\n",
            "lt:\n",
            " 0    False\n",
            "1    False\n",
            "2    False\n",
            "3    False\n",
            "4    False\n",
            "dtype: bool\n"
          ],
          "name": "stdout"
        }
      ]
    }
  ]
}