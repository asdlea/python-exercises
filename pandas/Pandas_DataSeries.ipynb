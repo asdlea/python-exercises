{
  "cells": [
    {
      "cell_type": "markdown",
      "metadata": {
        "id": "RuGwqlsDVszr"
      },
      "source": [
        "# Python Pandas Data Series: Exercises, Practice, Solution"
      ]
    },
    {
      "cell_type": "markdown",
      "metadata": {},
      "source": [
        "URL: https://www.w3resource.com/python-exercises/pandas/index-data-series.php"
      ]
    },
    {
      "cell_type": "code",
      "execution_count": 1,
      "metadata": {
        "id": "Y0GBBDyGWjVi"
      },
      "outputs": [],
      "source": [
        "import pandas as pd"
      ]
    },
    {
      "cell_type": "markdown",
      "metadata": {
        "id": "DKpW8RITV-8F"
      },
      "source": [
        "### 01) Write a Pandas program to create and display a one-dimensional array-like object containing an array of data using Pandas module."
      ]
    },
    {
      "cell_type": "code",
      "execution_count": 2,
      "metadata": {
        "colab": {
          "base_uri": "https://localhost:8080/"
        },
        "id": "tvPkdlkgVnc2",
        "outputId": "df1cc858-f208-4b23-fbf6-78058964d03d"
      },
      "outputs": [
        {
          "data": {
            "text/plain": [
              "0    1\n",
              "1    2\n",
              "2    3\n",
              "3    4\n",
              "dtype: int64"
            ]
          },
          "execution_count": 2,
          "metadata": {
            "tags": []
          },
          "output_type": "execute_result"
        }
      ],
      "source": [
        "arr = pd.Series([1, 2, 3, 4])\n",
        "arr"
      ]
    },
    {
      "cell_type": "markdown",
      "metadata": {
        "id": "HNL0ENPlW4SX"
      },
      "source": [
        "### 02) Write a Pandas program to convert a Panda module Series to Python list and it's type."
      ]
    },
    {
      "cell_type": "code",
      "execution_count": 3,
      "metadata": {
        "colab": {
          "base_uri": "https://localhost:8080/"
        },
        "id": "4219nDpgWv39",
        "outputId": "a98c3243-0291-4067-eb69-afa382d61e87"
      },
      "outputs": [
        {
          "data": {
            "text/plain": [
              "[1, 2, 3, 4]"
            ]
          },
          "execution_count": 3,
          "metadata": {
            "tags": []
          },
          "output_type": "execute_result"
        }
      ],
      "source": [
        "arr.to_list()\n"
      ]
    },
    {
      "cell_type": "markdown",
      "metadata": {
        "id": "orBuKeqsZoql"
      },
      "source": [
        "### 03) Write a Pandas program to add, subtract, multiple and divide two Pandas Series.\n",
        "\n",
        "Sample Series: [2, 4, 6, 8, 10], [1, 3, 5, 7, 9]"
      ]
    },
    {
      "cell_type": "code",
      "execution_count": 4,
      "metadata": {
        "colab": {
          "base_uri": "https://localhost:8080/"
        },
        "id": "9LzEq-7GZn4u",
        "outputId": "c60e6a31-c03e-462d-e366-14679ed610db"
      },
      "outputs": [
        {
          "name": "stdout",
          "output_type": "stream",
          "text": [
            "addition:\n",
            " 0     3\n",
            "1     7\n",
            "2    11\n",
            "3    15\n",
            "4    19\n",
            "dtype: int64\n",
            "substraction:\n",
            " 0    1\n",
            "1    1\n",
            "2    1\n",
            "3    1\n",
            "4    1\n",
            "dtype: int64\n",
            "product:\n",
            " 0     2\n",
            "1    12\n",
            "2    30\n",
            "3    56\n",
            "4    90\n",
            "dtype: int64\n",
            "division:\n",
            " 0    2.000000\n",
            "1    1.333333\n",
            "2    1.200000\n",
            "3    1.142857\n",
            "4    1.111111\n",
            "dtype: float64\n"
          ]
        }
      ],
      "source": [
        "arr1 = pd.Series([2, 4, 6, 8, 10])\n",
        "arr2 = pd.Series([1, 3, 5, 7, 9])\n",
        "\n",
        "print(\"addition:\\n\", arr1+arr2)\n",
        "print(\"substraction:\\n\", arr1-arr2)\n",
        "print(\"product:\\n\", arr1*arr2)\n",
        "print(\"division:\\n\", arr1/arr2)"
      ]
    },
    {
      "cell_type": "markdown",
      "metadata": {
        "id": "SsyU5TU6bECI"
      },
      "source": [
        "### 04) Write a Pandas program to compare the elements of the two Pandas Series\n",
        "\n",
        "Sample Series: [2, 4, 6, 8, 10], [1, 3, 5, 7, 9]"
      ]
    },
    {
      "cell_type": "code",
      "execution_count": 5,
      "metadata": {
        "colab": {
          "base_uri": "https://localhost:8080/"
        },
        "id": "Fc0m4EvNZnT6",
        "outputId": "8ecaeb6a-6291-44d6-d780-c274689aa792"
      },
      "outputs": [
        {
          "name": "stdout",
          "output_type": "stream",
          "text": [
            "equal:\n",
            " 0    False\n",
            "1    False\n",
            "2    False\n",
            "3    False\n",
            "4    False\n",
            "dtype: bool\n",
            "gt:\n",
            " 0    True\n",
            "1    True\n",
            "2    True\n",
            "3    True\n",
            "4    True\n",
            "dtype: bool\n",
            "lt:\n",
            " 0    False\n",
            "1    False\n",
            "2    False\n",
            "3    False\n",
            "4    False\n",
            "dtype: bool\n"
          ]
        }
      ],
      "source": [
        "arr1 = pd.Series([2, 4, 6, 8, 10])\n",
        "arr2 = pd.Series([1, 3, 5, 7, 9])\n",
        "\n",
        "print(\"equal:\\n\", arr1==arr2)\n",
        "print(\"gt:\\n\", arr1>arr2)\n",
        "print(\"lt:\\n\", arr1<arr2)"
      ]
    },
    {
      "cell_type": "markdown",
      "metadata": {},
      "source": [
        "### 04) Write a Pandas program to convert a dictionary to a Pandas series.\n",
        "\n",
        "Sample Series\n",
        "\n",
        "Original dictionary:\n",
        "\n",
        "{'a': 100, 'b': 200, 'c': 300, 'd': 400, 'e': 800}\n",
        "\n",
        "Converted series:\n",
        "\n",
        "a 100\n",
        "\n",
        "b 200\n",
        "\n",
        "c 300\n",
        "\n",
        "d 400\n",
        "\n",
        "e 800\n",
        "\n",
        "dtype: int64 "
      ]
    },
    {
      "cell_type": "code",
      "execution_count": null,
      "metadata": {},
      "outputs": [],
      "source": [
        "dic = {'a': 100, 'b': 200, 'c': 300, 'd': 400, 'e': 800}\n",
        "series = pd.Series(dic)\n",
        "print(series)"
      ]
    }
  ],
  "metadata": {
    "colab": {
      "name": "Pandas DataSeries.ipynb",
      "provenance": [],
      "toc_visible": true
    },
    "kernelspec": {
      "display_name": "Python 3",
      "name": "python3"
    },
    "language_info": {
      "name": "python",
      "version": "3.8.3"
    }
  },
  "nbformat": 4,
  "nbformat_minor": 0
}
